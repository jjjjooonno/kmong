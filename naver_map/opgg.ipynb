{
 "cells": [
  {
   "cell_type": "code",
   "execution_count": null,
   "metadata": {},
   "outputs": [],
   "source": [
    "from selenium import webdriverfrom bs4 import BeautifulSoupimport timedr = webdriver.Chrome('/Users/joono/chromedriver')dr.get('http://www.op.gg/summoner/userName=%EC%AD%88%EB%85%B8%EC%AE%B8%EB%85%B8')time.sleep(1)dr.find_element_by_xpath('//*[@id=\"SummonerLayoutContent\"]/div[1]/div[2]/div/div[2]/div[2]/div[1]/div/div[1]/div[7]/div/div/a/span[1]').click()time.sleep(1)dr.find_element_by_xpath('//*[@id=\"SummonerLayoutContent\"]/div[1]/div[2]/div/div[2]/div[2]/div[1]/div/div[2]/div/div[1]/ul/li[2]/a').click()time.sleep(1)dr.find_element_by_xpath('//*[@id=\"SummonerLayoutContent\"]/div[1]/div[2]/div/div[2]/div[2]/div[1]/div/div[2]/div/div[1]/ul/li[3]/a').click()time.sleep(1)dr.find_element_by_xpath('//*[@id=\"SummonerLayoutContent\"]/div[1]/div[2]/div/div[2]/div[2]/div[1]/div/div[2]/div/div[1]/ul/li[4]/a').click()time.sleep(1)drt = dr.page_sourcesoup = BeautifulSoup(drt,'html.parser')bars = soup.find_all('script')print(bars)dr.quit()"
   ]
  }
 ],
 "metadata": {
  "language": "python"
 },
 "nbformat": 4,
 "nbformat_minor": 2
}

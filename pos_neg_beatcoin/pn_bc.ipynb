{
 "cells": [
  {
   "cell_type": "code",
   "execution_count": 1,
   "metadata": {
    "collapsed": true
   },
   "outputs": [],
   "source": [
    "from pandas import *\n",
    "import os"
   ]
  },
  {
   "cell_type": "code",
   "execution_count": 2,
   "metadata": {},
   "outputs": [],
   "source": [
    "flist = os.listdir('/Users/joono/GoogleDrive/SKKU/크몽/pos_neg_beatcoin/words')\n",
    "dic = read_csv('/Users/joono/GoogleDrive/SKKU/크몽/pos_neg_beatcoin/dic/total_arrange.csv'\n",
    "               ,encoding = 'euc-kr')"
   ]
  },
  {
   "cell_type": "code",
   "execution_count": 4,
   "metadata": {},
   "outputs": [
    {
     "name": "stdout",
     "output_type": "stream",
     "text": [
      "     Unnamed: 0 nounFrame  Freq label         비고\n191         192        혁명   432     -       산업혁명\n236         237        안정   354   pos  불안정 - neg\n288         289        책임   292   neg        무책임\n324         325        실명   269   neg        실명제\n509         510        안전   182   pos        안전성\n"
     ]
    }
   ],
   "source": [
    "dic.head()\n",
    "dic_narm = dic.dropna(how = 'any')\n",
    "print(dic_narm.head())"
   ]
  },
  {
   "cell_type": "code",
   "execution_count": 6,
   "metadata": {},
   "outputs": [
    {
     "name": "stdout",
     "output_type": "stream",
     "text": [
      "   Unnamed: 0 nounFrame   Freq label    비고\n0           1      비트코인  96990   NaN   NaN\n1           2        화폐  11695   NaN   NaN\n2           3        가상   9627   NaN  가상화폐\n3           4       거래소   5285   NaN   NaN\n4           5        사람   4795   NaN   NaN\n   Unnamed: 0 nounFrame  Freq  label\n0           1      비트코인   123    NaN\n1           2        화폐    11    NaN\n2           3      블록체인    10    NaN\n3           4        개론     7    NaN\n4           5        거래     7    NaN\n"
     ]
    }
   ],
   "source": [
    "print(dic.head())\n",
    "for file in flist:\n",
    "    if 'RH' in file:\n",
    "        dt = read_csv('/Users/joono/GoogleDrive/SKKU/크몽/pos_neg_beatcoin/words/'+file,\n",
    "                      encoding = 'euc-kr')\n",
    "        print(dt.head())\n"
   ]
  },
  {
   "cell_type": "code",
   "execution_count": 11,
   "metadata": {},
   "outputs": [
    {
     "name": "stdout",
     "output_type": "stream",
     "text": [
      "296\n295\n"
     ]
    }
   ],
   "source": [
    "dt_labeled = merge(dt,dic_narm,on = 'nounFrame',how='left')\n",
    "# dt_labeled\n",
    "# print(len(isna(dt_labeled['label_y'])))\n",
    "# print(sum(isna(dt_labeled['label_y'])))\n",
    "dt_labeled.loc[not isna(dt_labeled['label_y'])]"
   ]
  },
  {
   "cell_type": "code",
   "execution_count": null,
   "metadata": {},
   "outputs": [],
   "source": []
  }
 ],
 "metadata": {
  "kernelspec": {
   "display_name": "Python 2",
   "language": "python",
   "name": "python2"
  },
  "language_info": {
   "codemirror_mode": {
    "name": "ipython",
    "version": 2
   },
   "file_extension": ".py",
   "mimetype": "text/x-python",
   "name": "python",
   "nbconvert_exporter": "python",
   "pygments_lexer": "ipython2",
   "version": "2.7.6"
  }
 },
 "nbformat": 4,
 "nbformat_minor": 0
}
